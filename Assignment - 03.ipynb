{
 "cells": [
  {
   "cell_type": "code",
   "execution_count": null,
   "id": "ca382bd9",
   "metadata": {},
   "outputs": [],
   "source": [
    "1. Why are functions advantageous to have in your programs?\n",
    "Answer- functions are helpful to avoid repitation of bunch of code\n",
    "we can operate the same code by passsing number of arguments."
   ]
  },
  {
   "cell_type": "code",
   "execution_count": null,
   "id": "aeae8ddb",
   "metadata": {},
   "outputs": [],
   "source": [
    "2. When does the code in a function run: when it is specified or when it is called?\n",
    "Answer-  the fuction can be define in a follwing syntax\n",
    "    \n",
    "    def fun(a):             # this is function defining, (a) a is the argument passing in fun \n",
    "        body of fun         # this is the body of funtion\n",
    "        \n",
    "        funtion return values  # this is any values funtion returning\n",
    "    fun(10)   # this is the funtion calling with argument"
   ]
  },
  {
   "cell_type": "code",
   "execution_count": 1,
   "id": "f879681d",
   "metadata": {},
   "outputs": [
    {
     "data": {
      "text/plain": [
       "30"
      ]
     },
     "execution_count": 1,
     "metadata": {},
     "output_type": "execute_result"
    }
   ],
   "source": [
    "# example of funtion Addition of two numbers\n",
    "def add(a,b):  # function defination\n",
    "    c=a+b      # body of funtion\n",
    "    return c    #function returning the value\n",
    "    \n",
    "add(10,20)      #function calling\n"
   ]
  },
  {
   "cell_type": "code",
   "execution_count": null,
   "id": "09ba4615",
   "metadata": {},
   "outputs": [],
   "source": [
    "3. What statement creates a function?\n",
    "Answer- def creates a function"
   ]
  },
  {
   "cell_type": "code",
   "execution_count": null,
   "id": "145e866e",
   "metadata": {},
   "outputs": [],
   "source": [
    "4. What is the difference between a function and a function call?\n",
    "Answer- Function only the set of code which would not run unless and untill function call\n"
   ]
  },
  {
   "cell_type": "code",
   "execution_count": null,
   "id": "59cd4d79",
   "metadata": {},
   "outputs": [],
   "source": [
    "5. How many global scopes are there in a Python program? How many local scopes?\n",
    "Answer- There is only one global scope per exicution in python, and the veriable\n",
    "        inside the program has local scope inside the program or in that module"
   ]
  },
  {
   "cell_type": "code",
   "execution_count": null,
   "id": "a0155172",
   "metadata": {},
   "outputs": [],
   "source": [
    "6. What happens to variables in a local scope when the function call returns?\n",
    "Answer- The local veriables are vanised once the funtion return the value"
   ]
  },
  {
   "cell_type": "code",
   "execution_count": null,
   "id": "eeaafd51",
   "metadata": {},
   "outputs": [],
   "source": [
    "7. What is the concept of a return value? Is it possible to have a return value in an expression?\n",
    "Answer- return is returning the any values to the funtion calling statement, it may be in the form of \n",
    "        expression like following example"
   ]
  },
  {
   "cell_type": "code",
   "execution_count": 3,
   "id": "19cf8a10",
   "metadata": {},
   "outputs": [],
   "source": [
    "def add(a,b):\n",
    "    return a+b\n",
    "add(20,30)"
   ]
  },
  {
   "cell_type": "code",
   "execution_count": null,
   "id": "7ce92051",
   "metadata": {},
   "outputs": [],
   "source": [
    "8. If a function does not have a return statement, what is the return value of a call to that function?\n",
    "Answer- function will return the nothing None"
   ]
  },
  {
   "cell_type": "code",
   "execution_count": null,
   "id": "1615fa64",
   "metadata": {},
   "outputs": [],
   "source": [
    "9. How do you make a function variable refer to the global variable?\n",
    "Answer- we have to use global keyword to declear variable"
   ]
  },
  {
   "cell_type": "code",
   "execution_count": 14,
   "id": "2391aee6",
   "metadata": {},
   "outputs": [
    {
     "name": "stdout",
     "output_type": "stream",
     "text": [
      "100\n"
     ]
    }
   ],
   "source": [
    "def fun1():\n",
    "    global a\n",
    "    a=100\n",
    "  \n",
    "def fun2():\n",
    "    print(a)\n",
    "    \n",
    "fun1()\n",
    "fun2()"
   ]
  },
  {
   "cell_type": "code",
   "execution_count": null,
   "id": "67e515a4",
   "metadata": {},
   "outputs": [],
   "source": [
    "10. What is the data type of None?\n",
    "Answer - NoneType"
   ]
  },
  {
   "cell_type": "code",
   "execution_count": 15,
   "id": "9e1f327f",
   "metadata": {},
   "outputs": [
    {
     "data": {
      "text/plain": [
       "NoneType"
      ]
     },
     "execution_count": 15,
     "metadata": {},
     "output_type": "execute_result"
    }
   ],
   "source": [
    "type(None)"
   ]
  },
  {
   "cell_type": "code",
   "execution_count": null,
   "id": "de0f2458",
   "metadata": {},
   "outputs": [],
   "source": [
    "11. What does the sentence import areallyourpetsnamederic do?\n",
    "Answer- it will import the module name areallyourpetsnamederic if any"
   ]
  },
  {
   "cell_type": "code",
   "execution_count": null,
   "id": "71f091c0",
   "metadata": {},
   "outputs": [],
   "source": [
    "12. If you had a bacon() feature in a spam module, what would you call it after importing spam?\n",
    "Answer- the funtion would call by spam.bacon()"
   ]
  },
  {
   "cell_type": "code",
   "execution_count": null,
   "id": "7813a24f",
   "metadata": {},
   "outputs": [],
   "source": [
    "13. What can you do to save a programme from crashing if it encounters an error?\n",
    "Answer- we could exception handling to handle the errors "
   ]
  },
  {
   "cell_type": "code",
   "execution_count": null,
   "id": "7458cf57",
   "metadata": {},
   "outputs": [],
   "source": [
    "14. What is the purpose of the try clause? What is the purpose of the except clause?\n",
    "Answer- try is used to handle the errors it is trying the bunch of code and if there is an \n",
    "        any error occured while compling the code except will handle it, like below example"
   ]
  },
  {
   "cell_type": "code",
   "execution_count": 16,
   "id": "d2109a93",
   "metadata": {},
   "outputs": [
    {
     "name": "stdout",
     "output_type": "stream",
     "text": [
      "division by zero\n"
     ]
    }
   ],
   "source": [
    "def fun(a,b):\n",
    "    try: \n",
    "        div = a/b\n",
    "        return div\n",
    "    except Exception as e:\n",
    "        print(e)\n",
    "fun(10,0)"
   ]
  },
  {
   "cell_type": "code",
   "execution_count": null,
   "id": "5df54a0c",
   "metadata": {},
   "outputs": [],
   "source": []
  }
 ],
 "metadata": {
  "kernelspec": {
   "display_name": "Python 3 (ipykernel)",
   "language": "python",
   "name": "python3"
  },
  "language_info": {
   "codemirror_mode": {
    "name": "ipython",
    "version": 3
   },
   "file_extension": ".py",
   "mimetype": "text/x-python",
   "name": "python",
   "nbconvert_exporter": "python",
   "pygments_lexer": "ipython3",
   "version": "3.9.12"
  }
 },
 "nbformat": 4,
 "nbformat_minor": 5
}
